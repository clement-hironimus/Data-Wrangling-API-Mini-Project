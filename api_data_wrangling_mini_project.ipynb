{
 "cells": [
  {
   "cell_type": "markdown",
   "source": [
    "This exercise will require you to pull some data from https://data.nasdaq.com/ (formerly Quandl API)."
   ],
   "metadata": {}
  },
  {
   "cell_type": "markdown",
   "source": [
    "As a first step, you will need to register a free account on the https://data.nasdaq.com/ website."
   ],
   "metadata": {}
  },
  {
   "cell_type": "markdown",
   "source": [
    "After you register, you will be provided with a unique API key, that you should store:\n",
    "\n",
    "*Note*: Use a `.env` file and put your key in there and `python-dotenv` to access it in this notebook. \n",
    "\n",
    "The code below uses a key that was used when generating this project but has since been deleted. Never submit your keys to source control. There is a `.env-example` file in this repository to illusrtate what you need. Copy that to a file called `.env` and use your own api key in that `.env` file. Make sure you also have a `.gitignore` file with a line for `.env` added to it. \n",
    "\n",
    "The standard Python gitignore is [here](https://github.com/github/gitignore/blob/master/Python.gitignore) you can just copy that. "
   ],
   "metadata": {}
  },
  {
   "cell_type": "code",
   "execution_count": 131,
   "source": [
    "# get api key from your .env file\n",
    "import os\n",
    "from dotenv import load_dotenv\n",
    "\n",
    "load_dotenv()\n",
    "API_KEY = os.getenv('NASDAQ_API_KEY')"
   ],
   "outputs": [],
   "metadata": {
    "ExecuteTime": {
     "end_time": "2023-09-05T01:42:41.510824Z",
     "start_time": "2023-09-05T01:42:41.502329Z"
    }
   }
  },
  {
   "cell_type": "markdown",
   "source": [
    "Nasdaq Data has a large number of data sources, but, unfortunately, most of them require a Premium subscription. Still, there are also a good number of free datasets."
   ],
   "metadata": {}
  },
  {
   "cell_type": "markdown",
   "source": [
    "For this mini project, we will focus on equities data from the Frankfurt Stock Exhange (FSE), which is available for free. We'll try and analyze the stock prices of a company called Carl Zeiss Meditec, which manufactures tools for eye examinations, as well as medical lasers for laser eye surgery: https://www.zeiss.com/meditec/int/home.html. The company is listed under the stock ticker AFX_X."
   ],
   "metadata": {}
  },
  {
   "cell_type": "markdown",
   "source": [
    "You can find the detailed Nasdaq Data API instructions here: https://docs.data.nasdaq.com/docs/in-depth-usage"
   ],
   "metadata": {}
  },
  {
   "cell_type": "markdown",
   "source": [
    "While there is a dedicated Python package for connecting to the Nasdaq API, we would prefer that you use the *requests* package, which can be easily downloaded using *pip* or *conda*. You can find the documentation for the package here: http://docs.python-requests.org/en/master/ "
   ],
   "metadata": {}
  },
  {
   "cell_type": "markdown",
   "source": [
    "Finally, apart from the *requests* package, you are encouraged to not use any third party Python packages, such as *pandas*, and instead focus on what's available in the Python Standard Library (the *collections* module might come in handy: https://pymotw.com/3/collections/).\n",
    "Also, since you won't have access to DataFrames, you are encouraged to us Python's native data structures - preferably dictionaries, though some questions can also be answered using lists.\n",
    "You can read more on these data structures here: https://docs.python.org/3/tutorial/datastructures.html"
   ],
   "metadata": {}
  },
  {
   "cell_type": "markdown",
   "source": [
    "Keep in mind that the JSON responses you will be getting from the API map almost one-to-one to Python's dictionaries. Unfortunately, they can be very nested, so make sure you read up on indexing dictionaries in the documentation provided above."
   ],
   "metadata": {}
  },
  {
   "cell_type": "code",
   "execution_count": 2,
   "source": [
    "# First, import the relevant modules\n",
    "import requests\n",
    "import json"
   ],
   "outputs": [],
   "metadata": {
    "ExecuteTime": {
     "end_time": "2023-09-04T22:57:40.149910Z",
     "start_time": "2023-09-04T22:57:40.066096Z"
    }
   }
  },
  {
   "cell_type": "markdown",
   "source": [
    "Note: API's can change a bit with each version, for this exercise it is reccomended to use the nasdaq api at `https://data.nasdaq.com/api/v3/`. This is the same api as what used to be quandl so `https://www.quandl.com/api/v3/` should work too.\n",
    "\n",
    "Hint: We are looking for the `AFX_X` data on the `datasets/FSE/` dataset."
   ],
   "metadata": {}
  },
  {
   "cell_type": "code",
   "execution_count": 10,
   "source": [
    "# Now, call the Nasdaq API and pull out a small sample of the data (only one day) to get a glimpse\n",
    "# into the JSON structure that will be returned\n",
    "def get_request(url):\n",
    "    try:\n",
    "        response = requests.get(url)\n",
    "        response.raise_for_status()\n",
    "    except requests.exceptions.HTTPError as errh:\n",
    "        print (\"HTTP Error:\",errh)\n",
    "    except requests.exceptions.ConnectionError as errc:\n",
    "        print (\"Error Connecting:\",errc)\n",
    "    except requests.exceptions.Timeout as errt:\n",
    "        print (\"Timeout Error:\",errt)\n",
    "    except requests.exceptions.RequestException as err:\n",
    "        print (\"Something went wrong\",err)\n",
    "    else:\n",
    "        return response.json()  # convert JSON response to Python dictionary\n",
    "\n",
    "# Custom Parameters\n",
    "start_date = '2017-01-01'\n",
    "end_date = '2017-12-31'\n",
    "url = f\"https://data.nasdaq.com/api/v3/datasets/FSE/AFX_X/data.json?api_key={API_KEY}&start_date={start_date}&end_date={end_date}\"\n",
    "\n",
    "# Perform GET Request\n",
    "response_dict = get_request(url)"
   ],
   "outputs": [],
   "metadata": {
    "ExecuteTime": {
     "end_time": "2023-09-04T23:04:49.239946Z",
     "start_time": "2023-09-04T23:04:48.735086Z"
    }
   }
  },
  {
   "cell_type": "code",
   "execution_count": 11,
   "source": [
    "# Inspect the JSON structure of the object you created, and take note of how nested it is,\n",
    "# as well as the overall structure\n",
    "\n",
    "# Result is multi-nested, we'll need everything in \"dataset_data\"\n",
    "response_dict.keys()"
   ],
   "outputs": [
    {
     "data": {
      "text/plain": "dict_keys(['dataset_data'])"
     },
     "execution_count": 11,
     "metadata": {},
     "output_type": "execute_result"
    }
   ],
   "metadata": {
    "ExecuteTime": {
     "end_time": "2023-09-04T23:04:50.518128Z",
     "start_time": "2023-09-04T23:04:50.508729Z"
    }
   }
  },
  {
   "cell_type": "code",
   "execution_count": 12,
   "outputs": [
    {
     "data": {
      "text/plain": "dict_keys(['limit', 'transform', 'column_index', 'column_names', 'start_date', 'end_date', 'frequency', 'data', 'collapse', 'order'])"
     },
     "execution_count": 12,
     "metadata": {},
     "output_type": "execute_result"
    }
   ],
   "source": [
    "# Modify data to return everything in \"dataset_data\"\n",
    "response_dict = response_dict['dataset_data']\n",
    "response_dict.keys() # Check the keys"
   ],
   "metadata": {
    "collapsed": false,
    "ExecuteTime": {
     "end_time": "2023-09-04T23:04:51.838547Z",
     "start_time": "2023-09-04T23:04:51.830928Z"
    }
   }
  },
  {
   "cell_type": "code",
   "execution_count": 14,
   "outputs": [
    {
     "data": {
      "text/plain": "['Date',\n 'Open',\n 'High',\n 'Low',\n 'Close',\n 'Change',\n 'Traded Volume',\n 'Turnover',\n 'Last Price of the Day',\n 'Daily Traded Units',\n 'Daily Turnover']"
     },
     "execution_count": 14,
     "metadata": {},
     "output_type": "execute_result"
    }
   ],
   "source": [
    "# Extract the column names\n",
    "column_names = response_dict['column_names']\n",
    "column_names"
   ],
   "metadata": {
    "collapsed": false,
    "ExecuteTime": {
     "end_time": "2023-09-04T23:05:41.916872Z",
     "start_time": "2023-09-04T23:05:41.900664Z"
    }
   }
  },
  {
   "cell_type": "markdown",
   "source": [
    "These are your tasks for this mini project:\n",
    "\n",
    "1. Collect data from the Franfurt Stock Exchange, for the ticker AFX_X, for the whole year 2017 (keep in mind that the date format is YYYY-MM-DD).\n",
    "2. Convert the returned JSON object into a Python dictionary.\n",
    "3. Calculate what the highest and lowest opening prices were for the stock in this period.\n",
    "4. What was the largest change in any one day (based on High and Low price)?\n",
    "5. What was the largest change between any two days (based on Closing Price)?\n",
    "6. What was the average daily trading volume during this year?\n",
    "7. (Optional) What was the median trading volume during this year. (Note: you may need to implement your own function for calculating the median.)"
   ],
   "metadata": {}
  },
  {
   "cell_type": "code",
   "execution_count": 17,
   "outputs": [
    {
     "name": "stdout",
     "output_type": "stream",
     "text": [
      "Start Date: 2017-01-01, End Date: 2017-12-31\n"
     ]
    }
   ],
   "source": [
    "# Exercise 1 - Collect data from the Franfurt Stock Exchange, for the ticker AFX_X, for the whole year 2017 (keep in mind that the date format is YYYY-MM-DD).\n",
    "# Make sure data is 2017\n",
    "print(f\"Start Date: {response_dict['start_date']}, End Date: {response_dict['end_date']}\")"
   ],
   "metadata": {
    "collapsed": false,
    "ExecuteTime": {
     "end_time": "2023-09-04T23:07:14.415200Z",
     "start_time": "2023-09-04T23:07:14.399516Z"
    }
   }
  },
  {
   "cell_type": "code",
   "execution_count": 18,
   "outputs": [
    {
     "name": "stdout",
     "output_type": "stream",
     "text": [
      "<class 'dict'>\n"
     ]
    }
   ],
   "source": [
    "# Exercise 2 - Convert the returned JSON object into a Python dictionary.\n",
    "    # Result is already converted in \"get_request\" function\n",
    "print(type(response_dict))"
   ],
   "metadata": {
    "collapsed": false,
    "ExecuteTime": {
     "end_time": "2023-09-04T23:09:01.718392Z",
     "start_time": "2023-09-04T23:09:01.701996Z"
    }
   }
  },
  {
   "cell_type": "code",
   "execution_count": 26,
   "outputs": [
    {
     "name": "stdout",
     "output_type": "stream",
     "text": [
      "[['2017-12-29', 51.76, 51.94, 51.45, 51.76, None, 34640.0, 1792304.0, None, None, None], ['2017-12-28', 51.65, 51.82, 51.43, 51.6, None, 40660.0, 2099024.0, None, None, None], ['2017-12-27', 51.45, 51.89, 50.76, 51.82, None, 57452.0, 2957018.0, None, None, None]]\n"
     ]
    }
   ],
   "source": [
    "# Get the Data\n",
    "data = response_dict['data']\n",
    "# Test print first 3 rows\n",
    "print(data[0:3])"
   ],
   "metadata": {
    "collapsed": false,
    "ExecuteTime": {
     "end_time": "2023-09-04T23:12:30.095676Z",
     "start_time": "2023-09-04T23:12:30.075917Z"
    }
   }
  },
  {
   "cell_type": "code",
   "execution_count": 68,
   "outputs": [],
   "source": [
    "# Function to get non-null values from a column in a 2D data\n",
    "def get_non_null_values_from_column_x(data, col_name):\n",
    "    col_index = column_names.index(col_name)\n",
    "    return [row[col_index] for row in data if row[col_index] is not None]"
   ],
   "metadata": {
    "collapsed": false,
    "ExecuteTime": {
     "end_time": "2023-09-04T23:58:05.095791Z",
     "start_time": "2023-09-04T23:58:05.078055Z"
    }
   }
  },
  {
   "cell_type": "code",
   "execution_count": 84,
   "outputs": [
    {
     "name": "stdout",
     "output_type": "stream",
     "text": [
      "Highest vs Lowest Opening Prices: 53.11 EUR vs 34.0 EUR\n"
     ]
    }
   ],
   "source": [
    "# Exercise 3 - Calculate what the highest and lowest opening prices were for the stock in this period.\n",
    "open_prices = get_non_null_values_from_column_x(data, 'Open')\n",
    "\n",
    "print(f'Highest vs Lowest Opening Prices: {max(open_prices)} EUR vs {min(open_prices)} EUR')"
   ],
   "metadata": {
    "collapsed": false,
    "ExecuteTime": {
     "end_time": "2023-09-05T01:06:16.885016Z",
     "start_time": "2023-09-05T01:06:16.866722Z"
    }
   }
  },
  {
   "cell_type": "code",
   "execution_count": 89,
   "outputs": [
    {
     "name": "stdout",
     "output_type": "stream",
     "text": [
      "Largest Change in one-day (based on High - Low Price): 2.81 EUR\n"
     ]
    }
   ],
   "source": [
    "# Exercise 4 - What was the largest change in any one day (based on High and Low price)?\n",
    "one_day_price_diff_high_vs_low = []\n",
    "for row in data:\n",
    "    high_col_index = column_names.index('High')\n",
    "    low_col_index = column_names.index('Low')\n",
    "    one_day_price_diff_high_vs_low.append(row[high_col_index] - row[low_col_index])\n",
    "    \n",
    "print(f'Largest Change in one-day (based on High - Low Price): {round(max(one_day_price_diff_high_vs_low), 4)} EUR')"
   ],
   "metadata": {
    "collapsed": false,
    "ExecuteTime": {
     "end_time": "2023-09-05T01:06:50.409708Z",
     "start_time": "2023-09-05T01:06:50.402661Z"
    }
   }
  },
  {
   "cell_type": "code",
   "execution_count": 120,
   "outputs": [
    {
     "name": "stdout",
     "output_type": "stream",
     "text": [
      "Largest Change Between Any Two Days (based on Closing Price): 19.03 EUR\n"
     ]
    }
   ],
   "source": [
    "# Exercise 5 - What was the largest change between any two days (based on Closing Price)?\n",
    "closing_prices = get_non_null_values_from_column_x(data, 'Close')\n",
    "    \n",
    "print(f'Largest Change Between Any Two Days (based on Closing Price): {round(max(closing_prices) - min(closing_prices), 4)} EUR')"
   ],
   "metadata": {
    "collapsed": false,
    "ExecuteTime": {
     "end_time": "2023-09-05T01:28:26.719031Z",
     "start_time": "2023-09-05T01:28:26.712190Z"
    }
   }
  },
  {
   "cell_type": "code",
   "execution_count": 125,
   "outputs": [
    {
     "name": "stdout",
     "output_type": "stream",
     "text": [
      "Largest Change Between Any Two Days (based on Closing Price): 89124\n"
     ]
    }
   ],
   "source": [
    "# Exercise 6 - What was the average daily trading volume during this year?\n",
    "daily_trading_volume = get_non_null_values_from_column_x(data, 'Traded Volume')\n",
    "avg_daily_trading_volume = sum(daily_trading_volume) / len(daily_trading_volume)\n",
    "\n",
    "print(f'Largest Change Between Any Two Days (based on Closing Price): {round(avg_daily_trading_volume)}')"
   ],
   "metadata": {
    "collapsed": false,
    "ExecuteTime": {
     "end_time": "2023-09-05T01:32:47.195297Z",
     "start_time": "2023-09-05T01:32:47.176415Z"
    }
   }
  },
  {
   "cell_type": "code",
   "execution_count": 126,
   "outputs": [
    {
     "name": "stdout",
     "output_type": "stream",
     "text": [
      "Largest Change Between Any Two Days (based on Closing Price): 76286\n"
     ]
    }
   ],
   "source": [
    "# Exercise 7 - (Optional) What was the median trading volume during this year. (Note: you may need to implement your own function for calculating the median.)\n",
    "\n",
    "def get_median(list_of_numbers):\n",
    "  \"\"\"This function finds the median of a list of numbers.\n",
    "\n",
    "  Args:\n",
    "    list_of_numbers: A list of numbers.\n",
    "\n",
    "  Returns:\n",
    "    The median of the list of numbers.\n",
    "  \"\"\"\n",
    "\n",
    "  list_of_numbers.sort()\n",
    "\n",
    "  # If there is an even number of elements, the median is the average of the middle two.\n",
    "\n",
    "  if len(list_of_numbers) % 2 == 0:\n",
    "    median = (list_of_numbers[len(list_of_numbers) // 2] +\n",
    "              list_of_numbers[len(list_of_numbers) // 2 - 1]) / 2\n",
    "\n",
    "  # If there is an odd number of elements, the median is the middle element.\n",
    "\n",
    "  else:\n",
    "    median = list_of_numbers[len(list_of_numbers) // 2]\n",
    "\n",
    "  return median\n",
    "\n",
    "median_trading_volume = get_median(daily_trading_volume)\n",
    "print(f'Largest Change Between Any Two Days (based on Closing Price): {round(median_trading_volume)}')"
   ],
   "metadata": {
    "collapsed": false,
    "ExecuteTime": {
     "end_time": "2023-09-05T01:36:37.541112Z",
     "start_time": "2023-09-05T01:36:37.506807Z"
    }
   }
  }
 ],
 "metadata": {
  "kernelspec": {
   "name": "python3",
   "language": "python",
   "display_name": "Python 3 (ipykernel)"
  },
  "language_info": {
   "codemirror_mode": {
    "name": "ipython",
    "version": 3
   },
   "file_extension": ".py",
   "mimetype": "text/x-python",
   "name": "python",
   "nbconvert_exporter": "python",
   "pygments_lexer": "ipython3",
   "version": "3.8.1"
  },
  "interpreter": {
   "hash": "7635eb1b9d0fe97add78a7368b6b431c09bb8ad5c42e437d64abdd99821c31ae"
  }
 },
 "nbformat": 4,
 "nbformat_minor": 4
}
